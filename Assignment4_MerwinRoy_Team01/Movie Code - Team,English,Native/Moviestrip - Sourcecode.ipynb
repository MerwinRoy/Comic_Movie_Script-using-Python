{
 "cells": [
  {
   "cell_type": "markdown",
   "id": "a3804424",
   "metadata": {},
   "source": [
    "# Assignment_4_Team01 - Source Code"
   ]
  },
  {
   "cell_type": "markdown",
   "id": "d95e28b1",
   "metadata": {},
   "source": [
    "Setting the default directory and importing libraries related to image"
   ]
  },
  {
   "cell_type": "code",
   "execution_count": null,
   "id": "86811c6d",
   "metadata": {},
   "outputs": [],
   "source": [
    "from PIL import Image, ImageOps\n",
    "import os\n",
    "os.getcwd()"
   ]
  },
  {
   "cell_type": "code",
   "execution_count": null,
   "id": "a6859ba0",
   "metadata": {},
   "outputs": [],
   "source": [
    "os.chdir(\"\") #Specify the directory"
   ]
  },
  {
   "cell_type": "markdown",
   "id": "c2852975",
   "metadata": {},
   "source": [
    "Reading the captions that are to be used from excel file"
   ]
  },
  {
   "cell_type": "code",
   "execution_count": null,
   "id": "313a3ab3",
   "metadata": {},
   "outputs": [],
   "source": [
    "import pandas as pd\n",
    "dialog= pd.read_excel('',index_col=None, header=None) # specify the excel path to read\n",
    "dialog.head(5)"
   ]
  },
  {
   "cell_type": "markdown",
   "id": "b4dc6e8a",
   "metadata": {},
   "source": [
    "All the images are read from the folder using that I have created using PIL and they are resized,added colors ,fonts using ImageFont.truetype,inserted captions into the images and finally the updated images are stored in a seperate folder. Please note that the font I have used can be applied only in Macbook. The code for Windows font is commented out in the below step."
   ]
  },
  {
   "cell_type": "code",
   "execution_count": 131,
   "id": "5300c0e0",
   "metadata": {},
   "outputs": [],
   "source": [
    "from PIL import Image, ImageDraw, ImageFont, ImageOps\n",
    "for i in range(1, 62):\n",
    "    images = Image.open('------/%d.jpg' %(i)) # specify the image path to read\n",
    "    images_resize = images.resize((500, 500))\n",
    "    images_border = ImageOps.expand(images_resize, border=(10,10),fill=(224,224,224))\n",
    "    \n",
    "    TINT_COLOR = (0, 0, 0)  \n",
    "    TRANSPARENCY = .50  \n",
    "    OPACITY = int(255 * TRANSPARENCY)\n",
    "    \n",
    "    images_col = images_border.convert('RGBA')\n",
    "    overlay = Image.new('RGBA', images_col.size, TINT_COLOR+(0,))\n",
    "    draw = ImageDraw.Draw(overlay)\n",
    "    #font = ImageFont.load_default()\n",
    "    font=ImageFont.truetype(\"Times New Roman Bold Italic.ttf\",35)\n",
    "    text = dialog.values[i-1][0]\n",
    "    w, h = font.getsize(text)\n",
    "    totallines = len(text.split('\\n'))\n",
    "    #print(totallines, w, h,text)\n",
    "    \n",
    "    x, y = 10, images_col.height-10-totallines*h\n",
    "    draw.rectangle((x, y-10, x + images_col.width - 15, y + totallines*h), fill=TINT_COLOR+(OPACITY,))\n",
    "    draw.text((x, y-10), text, fill=(255, 255, 255), font=font)\n",
    "    \n",
    "    images_dialog = Image.alpha_composite(images_col, overlay)\n",
    "    images_threecol = images_dialog.convert(\"RGB\")\n",
    "    images_threecol.save('-----/%d_new.jpg' %(i))# specify the path to save the image"
   ]
  },
  {
   "cell_type": "markdown",
   "id": "d420ca10",
   "metadata": {},
   "source": [
    "Displaying a sample image along with captions"
   ]
  },
  {
   "cell_type": "code",
   "execution_count": null,
   "id": "3480f4f0",
   "metadata": {},
   "outputs": [],
   "source": [
    "from IPython.display import Image\n",
    "Image(filename='---/%d_new.jpg' %(i), width=200) #specify the path to display the file"
   ]
  },
  {
   "cell_type": "markdown",
   "id": "0d55185a",
   "metadata": {},
   "source": [
    "The seperate folder(with captions) that was created is read and I am performing a horizontal stacking using numpy function np.hstack in a such a way that there are certain number of images per strip so that it looks good for viewing. The images are aligned and sorted and saved in a new folder horizontal."
   ]
  },
  {
   "cell_type": "code",
   "execution_count": null,
   "id": "a10ff957",
   "metadata": {},
   "outputs": [],
   "source": [
    "from os import listdir\n",
    "from os.path import isfile, join\n",
    "import PIL\n",
    "import numpy as np\n",
    "\n",
    "mypath = '' #Specify the path to read the image\n",
    "file_extract = [f for f in listdir(mypath) if isfile(join(mypath, f))]\n",
    "\n",
    "#Some meta data files get created while running the code in macbook. So we are removing those files\n",
    "if '.DS_Store' in file_extract:\n",
    "    file_extract.remove('.DS_Store')\n",
    "file_extract.sort(key=lambda x:int(x.split('_new.jpg')[0]))\n",
    "print(file_extract)\n",
    "\n",
    "pageval = 1\n",
    "while 0 < len(file_extract):\n",
    "    lines = 0\n",
    "    print('page '+str(pageval))\n",
    "    number_col = prev_number_col = 0\n",
    "    while lines < 5 and 0 < len(file_extract):\n",
    "        lines += 1\n",
    "        while number_col == prev_number_col:\n",
    "            number_col = np.random.randint(2, 5)\n",
    "        prev_number_col = number_col\n",
    "        onlyfiles = file_extract[:number_col]  \n",
    "        print(onlyfiles)\n",
    "        imgs    = [ PIL.Image.open(mypath+i) for i in onlyfiles ]\n",
    "\n",
    "# pick the image which is the smallest, and resize the others to match it (can be arbitrary image shape here)\n",
    "        min_shape = sorted( [(np.sum(i.size), i.size ) for i in imgs])[0][1]\n",
    "        imgs_comb = np.hstack( (np.asarray( i.resize(min_shape) ) for i in imgs ) )\n",
    "\n",
    "# save that beautiful picture\n",
    "        imgs_comb = PIL.Image.fromarray(imgs_comb)\n",
    "        imgs_comb.save(''+str(pageval)+str(lines)+'.jpg' ) #Specify the path to save the image\n",
    "        file_extract = file_extract[number_col:]\n",
    "    pageval+=1"
   ]
  },
  {
   "cell_type": "markdown",
   "id": "d9372b63",
   "metadata": {},
   "source": [
    "The horizontal strip that was created is read and I am performing a vertical stacking using numpy function np.vstack in a such a way that there are certain number of images per strip so that it looks good for viewing. The images are aligned and sorted and saved in a new folder called vertical."
   ]
  },
  {
   "cell_type": "code",
   "execution_count": null,
   "id": "a5ed7ac7",
   "metadata": {},
   "outputs": [],
   "source": [
    "mypath = '' #Specify the path to read the image\n",
    "file_extract = [f for f in listdir(mypath) if isfile(join(mypath, f))]\n",
    "\n",
    "#Some meta data files get created while running the code in macbook. So we are removing those files\n",
    "if '.DS_Store' in file_extract:\n",
    "    file_extract.remove('.DS_Store')\n",
    "file_extract.sort(key=lambda x:int(x.split('.jpg')[0]))\n",
    "print(file_extract)\n",
    "\n",
    "pageval = 1\n",
    "while 0 < len(file_extract):\n",
    "    lines = 0\n",
    "    print('pageval'+str(pageval))\n",
    "    number_col = prev_number_col = 0\n",
    "    while lines < 7 and 0 < len(file_extract):\n",
    "        lines += 1\n",
    "        while number_col == prev_number_col:\n",
    "            number_col = np.random.randint(3,7)\n",
    "        prev_number_col = number_col\n",
    "        onlyfiles = file_extract[:number_col]  \n",
    "        print(onlyfiles)\n",
    "        imgs    = [ PIL.Image.open(mypath+i) for i in onlyfiles ]\n",
    "\n",
    "# pick the image which is the smallest, and resize the others to match it (can be arbitrary image shape here)\n",
    "        min_shape = sorted( [(np.sum(i.size), i.size ) for i in imgs])[0][1]\n",
    "        imgs_comb = np.vstack( (np.asarray( i.resize(min_shape) ) for i in imgs ) )\n",
    "\n",
    "# save that beautiful picture\n",
    "        imgs_comb = PIL.Image.fromarray(imgs_comb)\n",
    "        imgs_comb.save(''+str(pageval)+str(lines)+'.jpg' ) #Specify the path to save the image\n",
    "        file_extract = file_extract[number_col:]\n",
    "    pageval+=1"
   ]
  },
  {
   "cell_type": "markdown",
   "id": "676288d8",
   "metadata": {},
   "source": [
    "Importing the cv2 package for image processing and using cv2.imread to read the image and cv2.cvtColor to apply colors to it."
   ]
  },
  {
   "cell_type": "code",
   "execution_count": null,
   "id": "4958e9d4",
   "metadata": {},
   "outputs": [],
   "source": [
    "from PIL import Image\n",
    "import cv2 \n",
    "from IPython.display import display\n",
    "\n",
    "# with the OpenCV function imread(), the order of colors is BGR (blue, green, red)\n",
    "for i in range(11,16):\n",
    "    img = cv2.imread('----/%d.jpg' %(i)) #Specify the path to read the image\n",
    "#img = [cv2.imread(file) for file in glob.glob(\"/Users/shankarasubramaniyang/Documents/Spring 2022/Data science methods and tools/Assigments/Moviestrip/Vertical/*.img\")]\n",
    "    img = cv2.cvtColor(img, cv2.COLOR_BGR2RGB)\n",
    "# In Pillow, the order of colors is assumed to be RGB (red, green, blue).\n",
    "# As we are using Image.fromarray() of PIL module, we need to convert BGR to RGB.\n",
    "#img = cv2.cvtColor(img, cv2.COLOR_BGR2RGB) # Converting BGR to RGB\n",
    "\n",
    "    display(Image.fromarray(img))"
   ]
  },
  {
   "cell_type": "markdown",
   "id": "af13564e",
   "metadata": {},
   "source": [
    "Resizing the image using PIL function and used cv2.cvtColor() to convert to greyscale, then cv2.medianBlur() to blur the greyscale in order to remove details that are too fine, then cv2.adaptiveThreshold() to detect the edges of the shapes in the image, then cv2.bitwise_and() to bitblt (superimpose) the original image with its edges and control the blur amount and the width of the borders of the shapes in the image, with the blur and line parameters"
   ]
  },
  {
   "cell_type": "code",
   "execution_count": 138,
   "id": "564f6258",
   "metadata": {},
   "outputs": [],
   "source": [
    "from PIL import Image\n",
    "import cv2 \n",
    "from IPython.display import display\n",
    "\n",
    "def imgcompress_mem(path_in, k):\n",
    "    img = cv2.imread(path_in, cv2.IMREAD_UNCHANGED)\n",
    "\n",
    "    # set the ratio of resized image\n",
    "    width = int((img.shape[1])/k)\n",
    "    height = int((img.shape[0])/k)\n",
    "\n",
    "    # resize the image by resize() function of openCV library\n",
    "    return cv2.resize(img, (width, height), interpolation=cv2.INTER_AREA)\n",
    "\n",
    "def cartoonizebl_mem(path_in, k, blur, line):\n",
    "    \n",
    "    imgc = imgcompress_mem(path_in, k)\n",
    "    #imgc_pil = cv2.cvtColor(imgc, cv2.COLOR_BGR2RGB) # Converting BGR to RGB\n",
    "    #display(Image.fromarray(imgc_pil))\n",
    "\n",
    "    line_size = line\n",
    "    blur_value = blur\n",
    "    #imgc = cv2.imread(path_out, cv2.IMREAD_UNCHANGED)\n",
    "    gray = cv2.cvtColor(imgc, cv2.COLOR_BGR2GRAY)\n",
    "    gray_blur = cv2.medianBlur(gray, blur_value)\n",
    "    bigedges = cv2.adaptiveThreshold(gray_blur, 255, cv2.ADAPTIVE_THRESH_MEAN_C, cv2.THRESH_BINARY, line_size, blur_value)\n",
    "    bigedges_pil = cv2.cvtColor(bigedges, cv2.COLOR_BGR2RGB) # Converting BGR to RGB\n",
    "    #display(Image.fromarray(bigedges_pil))\n",
    "\n",
    "    return cv2.bitwise_and(imgc, imgc, mask=bigedges)"
   ]
  },
  {
   "cell_type": "markdown",
   "id": "f5c0325a",
   "metadata": {},
   "source": [
    "Importing the cv2 package for image processing and using cv2.imread to read the image and cv2.cvtColor to apply colors to it."
   ]
  },
  {
   "cell_type": "code",
   "execution_count": 140,
   "id": "6af4106b",
   "metadata": {},
   "outputs": [],
   "source": [
    "from PIL import Image\n",
    "import cv2 \n",
    "from IPython.display import display\n",
    "\n",
    "for i in range(11,16):   \n",
    "# with the OpenCV function imread(), the order of colors is BGR (blue, green, red)\n",
    "    cblimg = cartoonizebl_mem('' %(i), 1, 5, 13) #Specify the path \n",
    "#cblimg_pil = cv2.cvtColor(cblimg, cv2.COLOR_BGR2RGB)\n",
    "    #display(Image.fromarray(cblimg_pil)\n",
    "        \n",
    "    cv2.imwrite('---/%d.jpg' %(i-10), cblimg) #Specify the path"
   ]
  },
  {
   "cell_type": "markdown",
   "id": "8d1a346b",
   "metadata": {},
   "source": [
    "Resizing the image using PIL function and used cv2.cvtColor() to convert to greyscale, then cv2.medianBlur() to blur the greyscale in order to remove details that are too fine, then cv2.adaptiveThreshold() to detect the edges of the shapes in the image, then cv2.bitwise_and() to bitblt (superimpose) the original image with its edges and control the blur amount and the width of the borders of the shapes in the image, with the blur and line parameters"
   ]
  },
  {
   "cell_type": "code",
   "execution_count": null,
   "id": "993506eb",
   "metadata": {},
   "outputs": [],
   "source": [
    "from PIL import Image\n",
    "from fpdf import FPDF\n",
    "from os.path import isfile, join\n",
    "from os import listdir\n",
    "import numpy as np\n",
    "import PIL\n",
    "\n",
    "path = '' #Specify the path to read the file\n",
    "file_extract = [ f for f in listdir(path) if isfile(join(path, f))]\n",
    "\n",
    "#Some meta data files get created while running the code in macbook. So we are removing those files\n",
    "if '.DS_Store'in file_extract:\n",
    "    file_extract.remove('.DS_Store')\n",
    "if 'Thumbs.db' in file_extract:\n",
    "    file_extract.remove('Thumbs.db')\n",
    "file_extract.sort(key=lambda x:int(x.split('.jpg')[0]))\n",
    "print(file_extract)\n",
    "\n",
    "imgslist = [ path+i for i in file_extract ]\n",
    "\n",
    "cover = Image.open('---/1.jpg') #Specify the path to open the file\n",
    "width, height = cover.size\n",
    "\n",
    "pdf = FPDF(unit = \"pt\", format = [width,height]) \n",
    "\n",
    "for img in imgslist:\n",
    "    pdf.add_page()\n",
    "    pdf.image(img, 0, 0, width, height)\n",
    "pdf.output('','F') #Specify the path to save the file"
   ]
  }
 ],
 "metadata": {
  "kernelspec": {
   "display_name": "Python 3 (ipykernel)",
   "language": "python",
   "name": "python3"
  },
  "language_info": {
   "codemirror_mode": {
    "name": "ipython",
    "version": 3
   },
   "file_extension": ".py",
   "mimetype": "text/x-python",
   "name": "python",
   "nbconvert_exporter": "python",
   "pygments_lexer": "ipython3",
   "version": "3.9.7"
  }
 },
 "nbformat": 4,
 "nbformat_minor": 5
}
